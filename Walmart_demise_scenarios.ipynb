{
 "cells": [
  {
   "cell_type": "markdown",
   "id": "1fe7485f-31ca-412f-8437-9fe9c3e56532",
   "metadata": {},
   "source": [
    "# Creating an Annualized Table by Tenant from the Monthly Income - Stephen Avenue Portfolio"
   ]
  },
  {
   "cell_type": "code",
   "execution_count": 1,
   "id": "cb8646a7-371d-4f6f-bd2e-a48adf6bc5a0",
   "metadata": {
    "tags": []
   },
   "outputs": [],
   "source": [
    "##Import the wind32 package and pandas\n",
    "import win32com.client\n",
    "import pandas as pd\n"
   ]
  },
  {
   "cell_type": "code",
   "execution_count": 2,
   "id": "ca3dbe59-1126-4379-8798-90a28b27f9f7",
   "metadata": {
    "jupyter": {
     "source_hidden": true
    },
    "tags": []
   },
   "outputs": [],
   "source": [
    "# Function to create Anualized Cashflows by Tenant for leasing report\n",
    "def create_annualized_cashflow_by_tenant_stephen_avenue(file,worksheet=\"Commercial Income Forecast\", Start_Row=309,End_row=406):\n",
    "    # This is originally configured for Stephen Avenue, to use another file it is recommended to check the row number and the \n",
    "    workbook = excel.Workbooks.Open(file)\n",
    "    cit=workbook.Worksheets(worksheet)\n",
    "    Year=2022\n",
    "    #Create the First Column of the Cashflow\n",
    "    df = pd.DataFrame(columns=['Items'])\n",
    "    df[\"Items\"]=cit.Range(cit.Cells(Start_Row,4),cit.Cells(End_row,4)).Value\n",
    "    for j in range (0,48,12):\n",
    "        Year_of_interest=cit.Range(cit.Cells(Start_Row,14+j),cit.Cells(End_row,25+j)).Value\n",
    "        #Monthly Detail Data, checks if the first element is an integer, if it is then it adss the whole row\n",
    "        list_sum_row=[]\n",
    "        for i in range(0,len(Year_of_interest)):\n",
    "            if  type(Year_of_interest[i][0]) == int or type(Year_of_interest[i][0]) == float:\n",
    "                list_sum_row.append(sum(Year_of_interest[i]))\n",
    "            else:\n",
    "                list_sum_row.append(\" \")\n",
    "        df[str(Year)]=list_sum_row\n",
    "        Year+=1\n",
    "    return df \n",
    "       \n",
    "    \n",
    "    "
   ]
  },
  {
   "cell_type": "code",
   "execution_count": 6,
   "id": "5f535e1d-2f9f-40c3-b608-9b2500a69277",
   "metadata": {
    "tags": []
   },
   "outputs": [],
   "source": [
    "#Open up Excel and make it visible\n",
    "excel = win32com.client.Dispatch('Excel.Application')\n",
    "excel.Visible = True\n",
    "\n",
    "#Open File and Run code\n",
    "file=\"C:/Users/Reinaldo Viccini/Desktop/Python Projects/Stephen Ave Portfolio L.P. Corporate Model - stays60 29.04.2022 -.xlsx\"\n",
    "table=create_annualized_cashflow_by_tenant_stephen_avenue(file)\n",
    "table.to_csv(\"Annualized_new_2.csv\")"
   ]
  },
  {
   "cell_type": "markdown",
   "id": "e1a3e049-eabf-4d34-b197-fdf856ff79c7",
   "metadata": {},
   "source": [
    "# Non-Function Version of Annualized Table"
   ]
  },
  {
   "cell_type": "code",
   "execution_count": 14,
   "id": "f9f984bb-1227-4757-96e8-a2cf3e578c77",
   "metadata": {},
   "outputs": [],
   "source": [
    "##Import the wind32 package and pandas\n",
    "import win32com.client\n",
    "import pandas as pd\n",
    "\n",
    "#Open up Excel and make it visible\n",
    "excel = win32com.client.Dispatch('Excel.Application')\n",
    "excel.Visible = True\n",
    "\n",
    "# Filepath\n",
    "file=\"C:/Users/Reinaldo Viccini/Desktop/Python Projects/Stephen Ave Portfolio L.P. Corporate Model - stays12 29.04.2022 -.xlsx\"\n",
    "worksheet=\"Commercial Income Forecast\"\n",
    "\n",
    "#Open Workbook\n",
    "workbook = excel.Workbooks.Open(file)\n",
    "cit=workbook.Worksheets(worksheet)\n",
    "\n",
    "\n",
    "Year=2022\n",
    "df = pd.DataFrame(columns=['Items'])\n",
    "df[\"Items\"]=list(cit.Range(cit.Cells(309,4),cit.Cells(406,4)).Value)\n",
    "for j in range (0,48,12):\n",
    "    Year_of_interest=cit.Range(cit.Cells(309,14+j),cit.Cells(406,25+j)).Value\n",
    "    #Monthly Detail Data, checks if the first element is an integer, if it is then it adss the whole row\n",
    "    list_sum_row=[]\n",
    "    for i in range(0,len(Year_of_interest)):\n",
    "        if  type(Year_of_interest[i][0]) == int or type(Year_of_interest[i][0]) == float:\n",
    "            list_sum_row.append(sum(Year_of_interest[i]))\n",
    "        else:\n",
    "            list_sum_row.append(\" \")\n",
    "    df[str(Year)]=list_sum_row\n",
    "    Year+=1\n",
    "df \n",
    "df.to_csv(\"Annualized_new_2.csv\")"
   ]
  },
  {
   "cell_type": "code",
   "execution_count": 13,
   "id": "4967f98e-0711-41b9-ad4c-5ee40993324a",
   "metadata": {},
   "outputs": [
    {
     "name": "stdout",
     "output_type": "stream",
     "text": [
      "0\n",
      "12\n",
      "24\n",
      "36\n"
     ]
    }
   ],
   "source": []
  },
  {
   "cell_type": "markdown",
   "id": "d6a4c3b3-85c8-4db6-848a-3c3481a04e71",
   "metadata": {},
   "source": [
    "## Other Tables in the ICC not present in the memo\n",
    "\n"
   ]
  },
  {
   "cell_type": "code",
   "execution_count": null,
   "id": "e7b69070-2cf3-4079-9e7d-60e634170648",
   "metadata": {},
   "outputs": [],
   "source": [
    "#From LP Cashflow.\n",
    "\n",
    "#Output\n",
    "#Extract Debt Rations\n",
    "print(\"Debt Ratio\")\n",
    "print(\"2022: \" +str(workbook.Worksheets(\"LP Cash Flow\").Cells(120,27).Value))\n",
    "print(\"2023: \" +str(workbook.Worksheets(\"LP Cash Flow\").Cells(120,43).Value))\n",
    "print(\"2024: \" +str(workbook.Worksheets(\"LP Cash Flow\").Cells(120,59).Value))\n",
    "print(\"2025: \" +str(workbook.Worksheets(\"LP Cash Flow\").Cells(120,75).Value))\n",
    "\n",
    "# Extract Cash Yield\n",
    "print(\"Cash Yield\")\n",
    "print(\"2022: \" +str((workbook.Worksheets(\"LP Cash Flow\").Cells(68,27).Value/3000000)*100))\n",
    "print(\"2023: \" +str((workbook.Worksheets(\"LP Cash Flow\").Cells(68,43).Value/3000000)*100))\n",
    "print(\"2024: \" +str((workbook.Worksheets(\"LP Cash Flow\").Cells(68,59).Value/3000000)*100))\n",
    "print(\"2025: \" +str((workbook.Worksheets(\"LP Cash Flow\").Cells(68,75).Value/3000000)*100))\n",
    "\n",
    "# Extract Ending Cash Position\n",
    "print(\"Starting Cash\")\n",
    "print(\"2022: \" +str((workbook.Worksheets(\"LP Cash Flow\").Cells(113,27).Value)))\n",
    "print(\"2023: \" +str((workbook.Worksheets(\"LP Cash Flow\").Cells(113,43).Value)))\n",
    "print(\"2024: \" +str((workbook.Worksheets(\"LP Cash Flow\").Cells(113,59).Value)))\n",
    "print(\"2025: \" +str((workbook.Worksheets(\"LP Cash Flow\").Cells(113,75).Value)))\n",
    "\n",
    "# Extract Ending Cash Position\n",
    "print(\"Ending Cash\")\n",
    "print(\"2022: \" +str((workbook.Worksheets(\"LP Cash Flow\").Cells(116,27).Value)))\n",
    "print(\"2023: \" +str((workbook.Worksheets(\"LP Cash Flow\").Cells(116,43).Value)))\n",
    "print(\"2024: \" +str((workbook.Worksheets(\"LP Cash Flow\").Cells(116,59).Value)))\n",
    "print(\"2025: \" +str((workbook.Worksheets(\"LP Cash Flow\").Cells(116,75).Value)))\n"
   ]
  },
  {
   "cell_type": "markdown",
   "id": "d06066ae-d839-4d67-b6a8-c5be162dc89d",
   "metadata": {},
   "source": [
    "# CREATING iCC MEMO TABLE"
   ]
  },
  {
   "cell_type": "code",
   "execution_count": 7,
   "id": "a6a370e1-25a5-4ea4-8551-00cdaefbb765",
   "metadata": {},
   "outputs": [],
   "source": [
    "\n",
    "\n",
    "# Filepath\n",
    "file=\"C:/Users/Reinaldo Viccini/Desktop/Python Projects/Stephen Ave Portfolio L.P. Corporate Model - stays60 29.04.2022 -.xlsx\"\n",
    "\n",
    "#Open Workbook\n",
    "workbook = excel.Workbooks.Open(file)\n",
    "\n",
    "#crEATIN\n",
    "#Creating Rows\n",
    "Variables= [\"NOI\",\"DCSR\",\"Cash Yield\", \"Starting Cash\", \"Ending Cash\" , \"Cap Rate\" ,  \"Valuation\"] \n",
    "df= pd.DataFrame(columns=['Items'])\n",
    "df['Items']=Variables\n",
    "\n",
    "#Columns and rows where the things we need are located\n",
    "columns_of_interest=[27,43,59,75]\n",
    "rows_of_interest= [47,120,68,113,116,121,123]\n",
    "\n",
    "Year=2022\n",
    "for j in columns_of_interest:\n",
    "    list_rows=[]\n",
    "    for i in rows_of_interest:\n",
    "        if i==68:\n",
    "            value=str(workbook.Worksheets(\"LP Cash Flow\").Cells(i,j).Value/3000000)\n",
    "            list_rows.append(value)\n",
    "        else:\n",
    "            value=str(workbook.Worksheets(\"LP Cash Flow\").Cells(i,j).Value)\n",
    "            list_rows.append(value)\n",
    "    df[str(Year)]=list_rows\n",
    "    Year+=1 \n",
    "df.to_csv(\"Annualized_new_2.csv\")"
   ]
  },
  {
   "cell_type": "code",
   "execution_count": null,
   "id": "9f674615-07ec-43cb-b6e9-3426c2173851",
   "metadata": {},
   "outputs": [],
   "source": []
  }
 ],
 "metadata": {
  "kernelspec": {
   "display_name": "Python 3 (ipykernel)",
   "language": "python",
   "name": "python3"
  },
  "language_info": {
   "codemirror_mode": {
    "name": "ipython",
    "version": 3
   },
   "file_extension": ".py",
   "mimetype": "text/x-python",
   "name": "python",
   "nbconvert_exporter": "python",
   "pygments_lexer": "ipython3",
   "version": "3.9.7"
  }
 },
 "nbformat": 4,
 "nbformat_minor": 5
}
